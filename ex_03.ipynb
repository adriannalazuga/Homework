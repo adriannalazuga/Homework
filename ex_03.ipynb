{
 "cells": [
  {
   "cell_type": "markdown",
   "metadata": {},
   "source": [
    "# Functions\n",
    "* Write and test a function, which takes length of the base and height of a triangle and returns its area.\n",
    "* Write a function with two arguments, which returns perimeter and area of a regular polygon, with a number and length of edges as arguments."
   ]
  },
  {
   "cell_type": "code",
   "execution_count": 2,
   "metadata": {},
   "outputs": [],
   "source": [
    "import numpy as np"
   ]
  },
  {
   "cell_type": "code",
   "execution_count": 3,
   "metadata": {},
   "outputs": [],
   "source": [
    "def triangle(length, height):\n",
    "    return('Area', length*height/3)\n",
    "\n",
    "def polygon(edges, length):\n",
    "    return('Perimeter: ', edges*length, 'Area: ', edges*(length**2)*(1/np.tan(np.pi/edges))/4)"
   ]
  },
  {
   "cell_type": "markdown",
   "metadata": {},
   "source": [
    "* Write and test a function, which returns a lambda function according to the chosen unit (\"F\" or \"C\"). It should calculate, how much energy is needed to raise the temperature of one kilogram of water by one degree (specific heat of water equals 4189,9 J/(kg\\*K)). Remember to take into account these cases, where the argument is wrong (return False or a default value)."
   ]
  },
  {
   "cell_type": "code",
   "execution_count": 4,
   "metadata": {},
   "outputs": [],
   "source": [
    "def f(unit):\n",
    "    if unit == 'F':\n",
    "        return lambda x: 4189.9/1.8\n",
    "    elif unit == 'C':\n",
    "        return lambda x: 4189.9\n",
    "    else:\n",
    "        return 'False'"
   ]
  },
  {
   "cell_type": "markdown",
   "metadata": {},
   "source": [
    "* Write a function which is an English-Polish translator of lists. Function should have optional argument \"inplace = False\". If inplace is True, function should translate words inside the list passed as an argument. If it is not True, a new list should be returned. Think about the proper solution for words not in the dictionary."
   ]
  },
  {
   "cell_type": "code",
   "execution_count": 5,
   "metadata": {},
   "outputs": [],
   "source": [
    "enPl = {'have':'mieć', 'which':'który', 'make':'robić', 'can':'potrafić', 'know':'wiedzieć', 'take':'brać', 'people':'ludzie', 'year':'rok', 'good':'dobry', 'bad':'zły', 'look':'patrzeć' }\n",
    "toTranslate = ['good', 'look', 'make', 'can', 'year', 'becasue', 'mastermidn', 'have']\n",
    "def translate(translate_list, inplace = False):\n",
    "    if inplace == False:\n",
    "        result = []\n",
    "        for i in range(len(translate_list)):\n",
    "            key = translate_list[i]\n",
    "            if key in enPl.keys():\n",
    "                value = enPl[key]\n",
    "                result.append(value) \n",
    "            else:\n",
    "                result.append('No translation')\n",
    "        return result\n",
    "    else:\n",
    "            for i in range(len(translate_list)):\n",
    "                key = translate_list[i]\n",
    "                if key in enPl.keys():\n",
    "                    value = enPl[key]\n",
    "                    translate_list[i] = value\n",
    "                else:\n",
    "                    translate_list[i] = 'No translation'\n",
    "            return toTranslate"
   ]
  },
  {
   "cell_type": "markdown",
   "metadata": {},
   "source": [
    "Profile your translator function using both %timeit and %prun."
   ]
  },
  {
   "cell_type": "code",
   "execution_count": 7,
   "metadata": {},
   "outputs": [
    {
     "name": "stdout",
     "output_type": "stream",
     "text": [
      "3.58 µs ± 244 ns per loop (mean ± std. dev. of 7 runs, 100,000 loops each)\n",
      " "
     ]
    },
    {
     "data": {
      "text/plain": [
       "         21 function calls in 0.000 seconds\n",
       "\n",
       "   Ordered by: internal time\n",
       "\n",
       "   ncalls  tottime  percall  cumtime  percall filename:lineno(function)\n",
       "        1    0.000    0.000    0.000    0.000 {built-in method builtins.exec}\n",
       "        1    0.000    0.000    0.000    0.000 2850641524.py:3(translate)\n",
       "        1    0.000    0.000    0.000    0.000 <string>:1(<module>)\n",
       "        8    0.000    0.000    0.000    0.000 {method 'keys' of 'dict' objects}\n",
       "        8    0.000    0.000    0.000    0.000 {method 'append' of 'list' objects}\n",
       "        1    0.000    0.000    0.000    0.000 {built-in method builtins.len}\n",
       "        1    0.000    0.000    0.000    0.000 {method 'disable' of '_lsprof.Profiler' objects}"
      ]
     },
     "metadata": {},
     "output_type": "display_data"
    }
   ],
   "source": [
    "%timeit translate(toTranslate)\n",
    "%prun translate(toTranslate)"
   ]
  },
  {
   "cell_type": "markdown",
   "metadata": {},
   "source": [
    "* Write a FizzBuzz function. This function should print consecutive numbers from 1 to 50. If the number is divisible by 3 it should print \"Fizz\" instead of the number, if it is divisible by 5, \"Buzz\" should be printed."
   ]
  },
  {
   "cell_type": "code",
   "execution_count": 11,
   "metadata": {},
   "outputs": [],
   "source": [
    "def FizzBuzz():\n",
    "    for i in range(1, 51):\n",
    "        if i%3 == 0:\n",
    "            print('Fizz')\n",
    "        elif i%5 == 0:\n",
    "            print('Buzz')\n",
    "        else:\n",
    "            print(i)"
   ]
  },
  {
   "cell_type": "markdown",
   "metadata": {},
   "source": [
    "* Modify the function above so that it would take arguments \"k\" and \"l\" instead of numbers 3 and 5."
   ]
  },
  {
   "cell_type": "code",
   "execution_count": 13,
   "metadata": {},
   "outputs": [],
   "source": [
    "def FizzBuzz(k, l):\n",
    "    for i in range(1, 51):\n",
    "        if i%k == 0:\n",
    "            print('Fizz')\n",
    "        elif i%l == 0:\n",
    "            print('Buzz')\n",
    "        else:\n",
    "            print(i)"
   ]
  },
  {
   "cell_type": "markdown",
   "metadata": {
    "collapsed": true,
    "jupyter": {
     "outputs_hidden": true
    }
   },
   "source": [
    "# Objects\n",
    "* Create a \"person\" object with the following attributes: name, surname, age, gender, height, email.\n",
    "* Creating an object should require name, surname and email; other attributes are optional.\n",
    "* The \"person\" objects should have methods allowing for:\n",
    "    * Setting a value for gender, height and age.\n",
    "    * Calculating BMI if the required values are filled in; if not - print a message which tells the user to input these values."
   ]
  },
  {
   "cell_type": "code",
   "execution_count": 61,
   "metadata": {},
   "outputs": [],
   "source": [
    "class Person:\n",
    "    def __init__(self, name, surname, email, age = None, gender = None, height = None, weight = None):\n",
    "        self.name = name\n",
    "        self.surname = surname\n",
    "        if age is not None:\n",
    "            self.age = age\n",
    "        if gender is not None:\n",
    "            self.gender = gender\n",
    "        if height is not None:\n",
    "            self.height = height\n",
    "        if weight is not None:\n",
    "            self.weight = weight\n",
    "        self.email = email\n",
    "    def set_age(self, age):\n",
    "        self.age = age\n",
    "    def set_height(self, height):\n",
    "        self.height = height\n",
    "    def set_gender(self, gender):\n",
    "        self.gender = gender  \n",
    "    def set_weight(self, weight):\n",
    "        self.weight = weight\n",
    "    def count_BMI(self):\n",
    "        if hasattr(self, \"height\") and hasattr(self, \"weight\"):\n",
    "            bmi = self.weight/(self.height/100)**2\n",
    "            print(bmi)\n",
    "        else:\n",
    "            print(\"Input height and weight information\") "
   ]
  },
  {
   "cell_type": "code",
   "execution_count": 68,
   "metadata": {},
   "outputs": [
    {
     "data": {
      "text/plain": [
       "<__main__.Person at 0x1f00c35d4d0>"
      ]
     },
     "execution_count": 68,
     "metadata": {},
     "output_type": "execute_result"
    }
   ],
   "source": [
    "jane = Person(\"Jane\", \"Doe\", \"jane@mail.com\", 43, 'd', 174)\n",
    "jane"
   ]
  },
  {
   "cell_type": "code",
   "execution_count": 69,
   "metadata": {},
   "outputs": [],
   "source": [
    "jane.set_weight(53)"
   ]
  },
  {
   "cell_type": "code",
   "execution_count": 70,
   "metadata": {},
   "outputs": [
    {
     "name": "stdout",
     "output_type": "stream",
     "text": [
      "17.50561500858766\n"
     ]
    }
   ],
   "source": [
    "jane.count_BMI()"
   ]
  }
 ],
 "metadata": {
  "kernelspec": {
   "display_name": "Python 3 (ipykernel)",
   "language": "python",
   "name": "python3"
  },
  "language_info": {
   "codemirror_mode": {
    "name": "ipython",
    "version": 3
   },
   "file_extension": ".py",
   "mimetype": "text/x-python",
   "name": "python",
   "nbconvert_exporter": "python",
   "pygments_lexer": "ipython3",
   "version": "3.11.5"
  }
 },
 "nbformat": 4,
 "nbformat_minor": 4
}
