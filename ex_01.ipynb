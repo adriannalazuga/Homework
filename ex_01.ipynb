{
 "cells": [
  {
   "cell_type": "markdown",
   "metadata": {},
   "source": [
    "# Intro to Python - exercises\n",
    "When solving exercises in this course it is advised to sometimes search for necessary information on the Internet (google, stackoverflow etc.). Finding a solution to a problem using Internet in a skillful and fast way is crucial.\n",
    "\n",
    "## Basic variables and print\n",
    "* Create a basic Hello World program as follows: create two strings, one for each word. Create a third variable, which will concatenate two previous variables, and then show its contents."
   ]
  },
  {
   "cell_type": "code",
   "execution_count": 2,
   "metadata": {},
   "outputs": [
    {
     "data": {
      "text/plain": [
       "'Hello World'"
      ]
     },
     "execution_count": 2,
     "metadata": {},
     "output_type": "execute_result"
    }
   ],
   "source": [
    "a = 'Hello'\n",
    "b = 'World'\n",
    "joined = a + ' ' + b\n",
    "joined"
   ]
  },
  {
   "cell_type": "markdown",
   "metadata": {},
   "source": [
    "## Lists\n",
    "Do following exercises about lists:\n",
    "* Create a list of three names.\n",
    "* Add a fourth name at the end of the list.\n",
    "* Add another name at the beginning of the list.\n",
    "* Delete third element from the list.\n",
    "* Show the number of elements on the list.\n",
    "* Using Python syntax to check if following names are on the list: Anna, John, Siegfried"
   ]
  },
  {
   "cell_type": "code",
   "execution_count": 10,
   "metadata": {},
   "outputs": [
    {
     "name": "stdout",
     "output_type": "stream",
     "text": [
      "['Amy', 'Jane', 'Mia']\n",
      "['Amy', 'Jane', 'Mia', 'Daisy']\n",
      "['Chloe', 'Amy', 'Jane', 'Mia', 'Daisy']\n",
      "['Chloe', 'Amy', 'Mia', 'Daisy']\n",
      "4\n",
      "Is 'Anna' in the names list? - False\n",
      "Is 'John' in the names list? - False\n",
      "Is 'Siegfried' in the names list? - False\n"
     ]
    }
   ],
   "source": [
    "names = ['Amy', 'Jane', 'Mia']\n",
    "print(names)\n",
    "names.append('Daisy')\n",
    "print(names)\n",
    "names.insert(0, 'Chloe')\n",
    "print(names)\n",
    "names.pop(2)\n",
    "print(names)\n",
    "print(len(names))\n",
    "print(\"Is 'Anna' in the names list? -\", 'Anna' in names)\n",
    "print(\"Is 'John' in the names list? -\", 'John' in names)\n",
    "print(\"Is 'Siegfried' in the names list? -\", 'Siegfried' in names)"
   ]
  },
  {
   "cell_type": "markdown",
   "metadata": {},
   "source": [
    "* Create a list containing your three lucky numbers.\n",
    "* Concatenate two lists.\n",
    "* Create a new list, which will be a list of all three lists available in the notebook.\n",
    "* Create a copy of the list of lists.\n",
    "* Clear the original list of lists.\n",
    "* Find Python 3.6 documentation for lists."
   ]
  },
  {
   "cell_type": "code",
   "execution_count": 16,
   "metadata": {},
   "outputs": [
    {
     "name": "stdout",
     "output_type": "stream",
     "text": [
      "[2, 7, 111]\n",
      "['blue', 'green']\n",
      "[2, 7, 111, 'blue', 'green']\n",
      "[['cat'], [2, 7, 111], ['blue', 'green']]\n",
      "[['cat'], [2, 7, 111], ['blue', 'green']]\n",
      "[]\n"
     ]
    }
   ],
   "source": [
    "numbers = [2, 7, 111]\n",
    "colors = ['blue', 'green']\n",
    "print(numbers)\n",
    "print(colors)\n",
    "joined_list = numbers + colors\n",
    "print(joined_list)\n",
    "animals = ['cat']\n",
    "new_list = []\n",
    "new_list.append(animals)\n",
    "new_list.append(numbers)\n",
    "new_list.append(colors)\n",
    "print(new_list)\n",
    "copy_list = new_list\n",
    "print(copy_list)\n",
    "new_list = []\n",
    "print(new_list)"
   ]
  },
  {
   "cell_type": "markdown",
   "metadata": {},
   "source": [
    "## Sets\n",
    "Create three sets of colors: colorsRainbow, colorsRGB, colorsCMYK, and do the following exercises:\n",
    "* Add white to rainbow.\n",
    "* Delete \"K\" color from CMYK.\n",
    "* Create a set of these colors, which are both in rainbow and RGB.\n",
    "* Create a set of these colors, which are in rainbow and are not in CMYK.\n",
    "* Create a set which contains colors from all sets.\n",
    "* Make a list of the set of all colors."
   ]
  },
  {
   "cell_type": "code",
   "execution_count": 13,
   "metadata": {},
   "outputs": [
    {
     "name": "stdout",
     "output_type": "stream",
     "text": [
      "{'red', 'blue', 'green'}\n",
      "{'yellow', 'blue', 'green', 'indigo', 'orange', 'red', 'white', 'violet'}\n",
      "{'yellow', 'blue', 'green', 'M', 'indigo', 'C', 'orange', 'red', 'white', 'Y', 'violet'}\n",
      "['yellow', 'blue', 'green', 'M', 'indigo', 'C', 'orange', 'red', 'white', 'Y', 'violet']\n"
     ]
    }
   ],
   "source": [
    "colorsRainbow = {'red', 'orange', 'yellow', 'green', 'blue', 'indigo', 'violet'}\n",
    "colorsRGB = {'red', 'green', 'blue'}\n",
    "colorsCMYK = {'C', 'M', 'Y', 'K'}\n",
    "colorsRainbow.add('white')\n",
    "colorsCMYK.discard('K')\n",
    "common_colors = colorsRainbow & colorsRGB\n",
    "print(common_colors)\n",
    "not_common_colors =  colorsRainbow - colorsCMYK\n",
    "print(not_common_colors)\n",
    "all_colors = colorsRainbow | colorsRGB | colorsCMYK\n",
    "all_colors_list = list(all_colors)\n",
    "print(all_colors)\n",
    "print(all_colors_list)"
   ]
  },
  {
   "cell_type": "markdown",
   "metadata": {},
   "source": [
    "## Dictionaries\n",
    "Create an English-Polish (or another foreign language) dictionary, which contains your three favorite English words and then:\n",
    "* Add \"author\", which will contain your first name and surname.\n",
    "* Delete the second added word from dictionary.\n",
    "* Create a dictionary, which will be a translation of the previous dictionary. (inverse dictionaries)\n",
    "* Concatenate two existing dictionaries.\n",
    "* Find Python 3.6 documentation for dictionaries."
   ]
  },
  {
   "cell_type": "code",
   "execution_count": 11,
   "metadata": {},
   "outputs": [
    {
     "name": "stdout",
     "output_type": "stream",
     "text": [
      "{'daisy': 'stokrotka', 'sunflower': 'słonecznik', 'author': 'Adrianna Łazuga'}\n",
      "{'stokrotka': 'daisy', 'słonecznik': 'sunflower', 'Adrianna Łazuga': 'author'}\n"
     ]
    },
    {
     "data": {
      "text/plain": [
       "{'daisy': 'stokrotka',\n",
       " 'sunflower': 'słonecznik',\n",
       " 'author': 'Adrianna Łazuga',\n",
       " 'stokrotka': 'daisy',\n",
       " 'słonecznik': 'sunflower',\n",
       " 'Adrianna Łazuga': 'author'}"
      ]
     },
     "execution_count": 11,
     "metadata": {},
     "output_type": "execute_result"
    }
   ],
   "source": [
    "dict = {'daisy' : 'stokrotka', 'rose' : 'róża', 'sunflower' : 'słonecznik'}\n",
    "dict['author'] = 'Adrianna Łazuga'\n",
    "del dict['rose']\n",
    "print(dict)\n",
    "for key, value in dict.items():\n",
    "    new_dict[value] = key\n",
    "print(new_dict)\n",
    "dict_joined = dict | new_dict\n",
    "dict_joined"
   ]
  },
  {
   "cell_type": "markdown",
   "metadata": {},
   "source": [
    "## Tuples\n",
    "Create the following two tuples:\n",
    "* Tuple containing your name, surname and year of birth.\n",
    "* Tuple containing three lists: colorsRainbow, colorsRGB, colorsCMYK."
   ]
  },
  {
   "cell_type": "code",
   "execution_count": 15,
   "metadata": {},
   "outputs": [
    {
     "name": "stdout",
     "output_type": "stream",
     "text": [
      "('Adrianna', 'Łazuga', '2001')\n",
      "(['red', 'white', 'yellow', 'blue', 'green', 'violet', 'indigo', 'orange'], ['red', 'blue', 'green'], ['M', 'C', 'Y'])\n"
     ]
    }
   ],
   "source": [
    "t1 = ('Adrianna', 'Łazuga', '2001')\n",
    "print(t1)\n",
    "t2 = (list(colorsRainbow), list(colorsRGB), list(colorsCMYK))\n",
    "print(t2)"
   ]
  }
 ],
 "metadata": {
  "kernelspec": {
   "display_name": "Python 3 (ipykernel)",
   "language": "python",
   "name": "python3"
  },
  "language_info": {
   "codemirror_mode": {
    "name": "ipython",
    "version": 3
   },
   "file_extension": ".py",
   "mimetype": "text/x-python",
   "name": "python",
   "nbconvert_exporter": "python",
   "pygments_lexer": "ipython3",
   "version": "3.11.5"
  }
 },
 "nbformat": 4,
 "nbformat_minor": 4
}
