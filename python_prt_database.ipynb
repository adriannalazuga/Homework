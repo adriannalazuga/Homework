{
 "cells": [
  {
   "cell_type": "code",
   "execution_count": 11,
   "id": "7ba24a2c-6a0d-470b-8d14-9773213e2724",
   "metadata": {},
   "outputs": [],
   "source": [
    "import osmnx as ox"
   ]
  },
  {
   "cell_type": "code",
   "execution_count": 16,
   "id": "df56bdcf-4692-4f67-bd1e-66d802b3a768",
   "metadata": {},
   "outputs": [
    {
     "name": "stdout",
     "output_type": "stream",
     "text": [
      "                                                   name  \\\n",
      "u           v           key                               \n",
      "26063726    31717945    0                      Poleczki   \n",
      "            29273144    0                      Puławska   \n",
      "26063848    1391593855  0    [Wyczółki, Nowy Służewiec]   \n",
      "            258495263   0                       Zatorze   \n",
      "            26083906    0                      Wyczółki   \n",
      "...                                                 ...   \n",
      "12386692866 12386692865 0                           NaN   \n",
      "12387194091 3770312531  0                           NaN   \n",
      "            3074880908  0                         Suwak   \n",
      "            34168686    0                         Suwak   \n",
      "12396980704 8898576080  0                           NaN   \n",
      "\n",
      "                                                                      geometry  \n",
      "u           v           key                                                     \n",
      "26063726    31717945    0     LINESTRING (21.01745 52.15279, 21.0178 52.15271)  \n",
      "            29273144    0    LINESTRING (21.01745 52.15279, 21.01745 52.152...  \n",
      "26063848    1391593855  0    LINESTRING (20.99139 52.15757, 20.99129 52.157...  \n",
      "            258495263   0    LINESTRING (20.99139 52.15757, 20.99127 52.157...  \n",
      "            26083906    0    LINESTRING (20.99139 52.15757, 20.99147 52.157...  \n",
      "...                                                                        ...  \n",
      "12386692866 12386692865 0     LINESTRING (21.01784 52.29472, 21.01791 52.2946)  \n",
      "12387194091 3770312531  0    LINESTRING (20.98885 52.18222, 20.98878 52.182...  \n",
      "            3074880908  0    LINESTRING (20.98885 52.18222, 20.98889 52.182...  \n",
      "            34168686    0    LINESTRING (20.98885 52.18222, 20.98875 52.182...  \n",
      "12396980704 8898576080  0    LINESTRING (21.17357 52.17542, 21.17354 52.175...  \n",
      "\n",
      "[44477 rows x 2 columns]\n"
     ]
    }
   ],
   "source": [
    "graph = ox.graph_from_place(\"Warsaw, Poland\", network_type=\"drive\")\n",
    "streets = ox.graph_to_gdfs(graph, nodes=False, edges=True)\n",
    "print(streets[[\"name\", \"geometry\"]])  # Vie"
   ]
  }
 ],
 "metadata": {
  "kernelspec": {
   "display_name": "Python 3 (ipykernel)",
   "language": "python",
   "name": "python3"
  },
  "language_info": {
   "codemirror_mode": {
    "name": "ipython",
    "version": 3
   },
   "file_extension": ".py",
   "mimetype": "text/x-python",
   "name": "python",
   "nbconvert_exporter": "python",
   "pygments_lexer": "ipython3",
   "version": "3.11.5"
  }
 },
 "nbformat": 4,
 "nbformat_minor": 5
}
