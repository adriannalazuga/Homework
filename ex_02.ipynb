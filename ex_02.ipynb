{
 "cells": [
  {
   "cell_type": "markdown",
   "metadata": {},
   "source": [
    "# Flow control - exercises\n",
    "## For and iterators\n",
    "\n",
    "* Print 5 consecutive numbers which are greater than 247 and divisible by 3.\n",
    "* Print all colors of rainbow."
   ]
  },
  {
   "cell_type": "code",
   "execution_count": 2,
   "metadata": {},
   "outputs": [
    {
     "name": "stdout",
     "output_type": "stream",
     "text": [
      "249\n",
      "252\n",
      "255\n",
      "258\n",
      "261\n",
      "red\n",
      "orange\n",
      "yellow\n",
      "green\n",
      "blue\n",
      "indigo\n",
      "violet\n"
     ]
    }
   ],
   "source": [
    "rainbow = ['red', 'orange', 'yellow', 'green', 'blue', 'indigo', 'violet']\n",
    "for i in range(5):\n",
    "    print(249+i*3)\n",
    "for i in rainbow:\n",
    "    print(i)"
   ]
  },
  {
   "cell_type": "markdown",
   "metadata": {},
   "source": [
    "* Create a list of your three favorite numbers, and then (using enumerate) modify a list in such a way that new values are equal to the old value multiplied by its index. For every number print its old and new value."
   ]
  },
  {
   "cell_type": "code",
   "execution_count": 5,
   "metadata": {},
   "outputs": [
    {
     "name": "stdout",
     "output_type": "stream",
     "text": [
      "Index: 0\n",
      "Old value:  2\n",
      "New value:  0\n",
      "Index: 1\n",
      "Old value:  7\n",
      "New value:  7\n",
      "Index: 2\n",
      "Old value:  11\n",
      "New value:  22\n"
     ]
    }
   ],
   "source": [
    "numbers = [2, 7, 11]\n",
    "for i, number in enumerate(numbers):\n",
    "    numbers[i] = number*i\n",
    "    print('Index:', i)\n",
    "    print('Old value: ', number)\n",
    "    print('New value: ', numbers[i])"
   ]
  },
  {
   "cell_type": "markdown",
   "metadata": {},
   "source": [
    "* Using zip() print names and surnames of movie protagonists."
   ]
  },
  {
   "cell_type": "code",
   "execution_count": 6,
   "metadata": {},
   "outputs": [
    {
     "name": "stdout",
     "output_type": "stream",
     "text": [
      "Grzegorz Brzęczyszczykiewicz\n",
      "Zdzisław Dyrman\n",
      "Ryszard Ochódzki\n"
     ]
    }
   ],
   "source": [
    "names = ['Grzegorz', 'Zdzisław', 'Ryszard']\n",
    "surnames = ['Brzęczyszczykiewicz', 'Dyrman', 'Ochódzki']\n",
    "\n",
    "for name, surname in zip(names, surnames):\n",
    "    print(name, surname)"
   ]
  },
  {
   "cell_type": "markdown",
   "metadata": {},
   "source": [
    "## List comprehension\n",
    "* Using list comprehensions create a list of letters which are not vowels."
   ]
  },
  {
   "cell_type": "code",
   "execution_count": 9,
   "metadata": {},
   "outputs": [
    {
     "name": "stdout",
     "output_type": "stream",
     "text": [
      "['T', 'h', 'q', 'c', 'k', 'b', 'r', 'w', 'n', 'f', 'x', 'j', 'm', 'p', 's', 'v', 'r', 't', 'h', 'l', 'z', 'y', 'd', 'g']\n"
     ]
    }
   ],
   "source": [
    "sentence = \"The quick brown fox jumps over the lazy dog.\"\n",
    "vowels = 'aeiou'\n",
    "print([x for x in sentence if x not in vowels and x.isalpha()])\n"
   ]
  },
  {
   "cell_type": "markdown",
   "metadata": {},
   "source": [
    "* Choose numbers between 2 and 37 (inclusive) which have a remainder of 1 when divided by 3, and raise them to the power of 2."
   ]
  },
  {
   "cell_type": "code",
   "execution_count": 15,
   "metadata": {},
   "outputs": [
    {
     "name": "stdout",
     "output_type": "stream",
     "text": [
      "[16, 49, 100, 169, 256, 361, 484, 625, 784, 961, 1156, 1369]\n"
     ]
    }
   ],
   "source": [
    "numbers_range = list(range(2, 38, 1))\n",
    "print([x**2 for x in numbers_range if x%3 == 1])"
   ]
  },
  {
   "cell_type": "markdown",
   "metadata": {},
   "source": [
    "## If and while\n",
    "* For every element on the list below, using if, elif and else: if element is a string: print it; if it is a float greater than 0: print \"Float, OK\"; if it is an even int print \"Even int\", in every other case print \"else\"."
   ]
  },
  {
   "cell_type": "code",
   "execution_count": 20,
   "metadata": {},
   "outputs": [
    {
     "name": "stdout",
     "output_type": "stream",
     "text": [
      "Even int\n",
      "Float, OK\n",
      "else\n",
      "else\n",
      "else\n"
     ]
    }
   ],
   "source": [
    "theList = [2, 2.5, 3, \"element\", -3.532]\n",
    "# Hint: type(x)\n",
    "for x in theList:\n",
    "    if type(x) == float and x > 0:\n",
    "        print(\"Float, OK\")\n",
    "    elif type(x) == int and x%2 == 0:\n",
    "        print(\"Even int\")\n",
    "    else:\n",
    "        print(\"else\")"
   ]
  },
  {
   "cell_type": "markdown",
   "metadata": {},
   "source": [
    "* Print consecutive Fibonacci numbers as long as sum of previous elements is lower than 100."
   ]
  },
  {
   "cell_type": "code",
   "execution_count": 34,
   "metadata": {},
   "outputs": [
    {
     "name": "stdout",
     "output_type": "stream",
     "text": [
      "0\n",
      "1\n",
      "1\n",
      "2\n",
      "3\n",
      "5\n",
      "8\n",
      "13\n",
      "21\n",
      "34\n",
      "55\n",
      "89\n"
     ]
    }
   ],
   "source": [
    "x1 = 0\n",
    "x2 = 1\n",
    "while(x1 < 100):\n",
    "    print(x1)\n",
    "    old_x1 = x1\n",
    "    x1 = x2\n",
    "    x2 += old_x1\n",
    "    sum += x2"
   ]
  },
  {
   "cell_type": "markdown",
   "metadata": {},
   "source": [
    "* Sum of a following geometric series: 1, 0.5, 0.25... equals 2. Using while and break check if more than 100 elements are required to get a difference between sum elements and 2 which is lower than 0.001. If yes - how many elements are required?"
   ]
  },
  {
   "cell_type": "code",
   "execution_count": 40,
   "metadata": {},
   "outputs": [
    {
     "name": "stdout",
     "output_type": "stream",
     "text": [
      "1\n",
      "1.5\n",
      "1.75\n",
      "1.875\n",
      "1.9375\n",
      "1.96875\n",
      "1.984375\n",
      "1.9921875\n",
      "1.99609375\n",
      "1.998046875\n",
      "1.9990234375\n",
      "Number of elements:  12\n"
     ]
    }
   ],
   "source": [
    "el_no = 1\n",
    "el = 1\n",
    "sum = 0\n",
    "while(2-sum>=0.001):\n",
    "    sum += el\n",
    "    el = el/2\n",
    "    el_no += 1\n",
    "    print(sum)\n",
    "    if el_no > 100:\n",
    "        break\n",
    "print('Number of elements: ', el_no)"
   ]
  }
 ],
 "metadata": {
  "kernelspec": {
   "display_name": "Python 3 (ipykernel)",
   "language": "python",
   "name": "python3"
  },
  "language_info": {
   "codemirror_mode": {
    "name": "ipython",
    "version": 3
   },
   "file_extension": ".py",
   "mimetype": "text/x-python",
   "name": "python",
   "nbconvert_exporter": "python",
   "pygments_lexer": "ipython3",
   "version": "3.11.5"
  }
 },
 "nbformat": 4,
 "nbformat_minor": 4
}
